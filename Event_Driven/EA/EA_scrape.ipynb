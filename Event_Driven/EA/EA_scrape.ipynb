{
 "cells": [
  {
   "cell_type": "markdown",
   "metadata": {},
   "source": [
    "## Description:\n",
    "\n",
    "This notebook will scrape `http://www.nasdaq.com/earnings/earnings-calendar.aspx` in order to obtain data regarding upcoming earnings announcements. <br>\n",
    "\n",
    "http://www.nasdaq.com/earnings/earnings-calendar.aspx?date=2018-Jan-17 <br>\n",
    "\n",
    "Notice the how the date is formatted at the end of the URL.\n"
   ]
  },
  {
   "cell_type": "code",
   "execution_count": 135,
   "metadata": {},
   "outputs": [],
   "source": [
    "# import libs\n",
    "import urllib.request\n",
    "from bs4 import BeautifulSoup\n",
    "import pandas as pd\n",
    "import numpy as np\n",
    "import quandl\n",
    "import datetime\n",
    "\n",
    "# get the ticker within the paranthesis\n",
    "def get_ticker( s ):\n",
    "\n",
    "    return s[s.find(\"(\")+1:s.find(\")\")]\n",
    "    \n",
    "\n",
    "# date must be: yyyy-mmm-dd (i.e. 2018-Jan-16)\n",
    "def scrape_build_df( date ):\n",
    "    \n",
    "    url = \"http://www.nasdaq.com/earnings/earnings-calendar.aspx?date=\" + date\n",
    "    \n",
    "    df = pd.read_html(url)[3]\n",
    "    df.columns = ['Time','Company/MktCap','ExpReportDate','QuarterEnd','EPS_Exp',\n",
    "                  'no_Est','LastYearReportDate','LastYearEPS','pct_surprise']\n",
    "    \n",
    "    del df['Time']\n",
    "    del df['LastYearReportDate']\n",
    "    del df['LastYearEPS']\n",
    "    del df['pct_surprise']\n",
    "    \n",
    "    df['Ticker'] = np.vectorize(get_ticker)(df['Company/MktCap'])\n",
    "    df = df.set_index('Ticker')\n",
    "    \n",
    "    df = df.sort_values(\"no_Est\", ascending=False)\n",
    "    df = df[df.no_Est >= 6]\n",
    "    \n",
    "    universe = df.index.values.tolist()\n",
    "    final_universe = [(stock, df.loc[stock]['EPS_Exp'], df.loc[stock]['no_Est']) \n",
    "                      for stock in universe]\n",
    "\n",
    "    return df, universe, final_universe\n",
    "\n",
    "# use quandle to retrieve stock data\n",
    "quandl.ApiConfig.api_key = 'j9T_hnwjKBytmt7sEdV6'\n",
    "def quandl_stocks( symbol, start_date=(2000, 1, 1), end_date=None ):\n",
    "    \"\"\"\n",
    "    symbol is a string representing a stock symbol, e.g. 'AAPL'\n",
    " \n",
    "    start_date and end_date are tuples of integers representing the year, month,\n",
    "    and day\n",
    " \n",
    "    end_date defaults to the current date when None\n",
    "    \"\"\"\n",
    " \n",
    "    query_list = ['WIKI' + '/' + symbol + '.' + str(k) for k in range(1, 13)]\n",
    " \n",
    "    start_date = datetime.date(*start_date)\n",
    " \n",
    "    if end_date:\n",
    "        end_date = datetime.date(*end_date)\n",
    "    else:\n",
    "        end_date = datetime.date.today()\n",
    " \n",
    "    return quandl.get(query_list, \n",
    "            returns='pandas', \n",
    "            start_date=start_date,\n",
    "            end_date=end_date,\n",
    "            collapse='daily',\n",
    "            order='asc'\n",
    "            )\n",
    "\n",
    "# function to handle stock data retrieval errors\n",
    "def stock_handler( stock, start_date=(2016, 7, 9) ):\n",
    "\n",
    "    try:\n",
    "        stock_df = quandl_stocks(stock, start_date=(2016, 7, 9))\n",
    "        adj_df = adjust_df( stock, stock_df )\n",
    "        \n",
    "        return adj_df\n",
    "\n",
    "    except ValueError:\n",
    "        return pd.DataFrame()\n",
    "    \n",
    "# mutate the \"stock_df\" in the above so it is \n",
    "# simply the series of Adj Close prices\n",
    "def adjust_df( ticker, stock_df ):\n",
    "    \n",
    "    adj_df = pd.DataFrame(stock_df['WIKI/' + ticker + ' - Adj. Close'])\n",
    "    adj_df.columns = ['close_price']\n",
    "    \n",
    "    return adj_df\n",
    "    \n",
    "    \n",
    "# build master dataframe    \n",
    "def get_master_dict( universe ):\n",
    "    \n",
    "    return {elm[0]: [stock_handler(elm[0], start_date=(2016, 7, 9)), elm[1], elm[2]]\n",
    "            for elm in universe if not stock_handler(elm[0], start_date=(2016, 7, 9)).empty}\n",
    "    \n",
    "# main function\n",
    "def driver( date ):\n",
    "    \n",
    "    return get_master_dict(scrape_build_df(date)[2])"
   ]
  },
  {
   "cell_type": "code",
   "execution_count": 136,
   "metadata": {},
   "outputs": [],
   "source": [
    "# Testing all of the above functions\n",
    "date = \"2017-Jan-09\"\n",
    "master_dict = driver(date)\n"
   ]
  },
  {
   "cell_type": "code",
   "execution_count": 137,
   "metadata": {},
   "outputs": [
    {
     "data": {
      "text/plain": [
       "dict_keys(['GPN', 'AYI', 'CUDA', 'CMC'])"
      ]
     },
     "execution_count": 137,
     "metadata": {},
     "output_type": "execute_result"
    }
   ],
   "source": [
    "master_dict.keys()"
   ]
  },
  {
   "cell_type": "code",
   "execution_count": 143,
   "metadata": {},
   "outputs": [],
   "source": [
    "def get_bs_params( cp_df ):\n",
    "    \n",
    "    return [cp_df.close_price.mean(), cp_df.close_price.std()]"
   ]
  },
  {
   "cell_type": "code",
   "execution_count": 144,
   "metadata": {},
   "outputs": [],
   "source": [
    "def set_param_dict( data_dict ):\n",
    "    \n",
    "    return {k: get_bs_params(data_dict[k][0]) for k in data_dict.keys()}\n",
    "    \n",
    "    "
   ]
  },
  {
   "cell_type": "code",
   "execution_count": 145,
   "metadata": {},
   "outputs": [],
   "source": [
    "p_dict = set_param_dict(master_dict)"
   ]
  },
  {
   "cell_type": "code",
   "execution_count": 146,
   "metadata": {},
   "outputs": [
    {
     "data": {
      "text/plain": [
       "{'AYI': [206.29040553700034, 37.059024441712687],\n",
       " 'CMC': [18.837813596875787, 2.3596742316822463],\n",
       " 'CUDA': [23.404140624999997, 1.7366861066164176],\n",
       " 'GPN': [85.068847557255467, 10.920117020850642]}"
      ]
     },
     "execution_count": 146,
     "metadata": {},
     "output_type": "execute_result"
    }
   ],
   "source": [
    "p_dict"
   ]
  },
  {
   "cell_type": "code",
   "execution_count": null,
   "metadata": {},
   "outputs": [],
   "source": []
  }
 ],
 "metadata": {
  "kernelspec": {
   "display_name": "Python 3",
   "language": "python",
   "name": "python3"
  },
  "language_info": {
   "codemirror_mode": {
    "name": "ipython",
    "version": 3
   },
   "file_extension": ".py",
   "mimetype": "text/x-python",
   "name": "python",
   "nbconvert_exporter": "python",
   "pygments_lexer": "ipython3",
   "version": "3.6.3"
  }
 },
 "nbformat": 4,
 "nbformat_minor": 2
}
