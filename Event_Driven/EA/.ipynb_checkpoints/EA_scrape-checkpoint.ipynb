{
 "cells": [
  {
   "cell_type": "markdown",
   "metadata": {},
   "source": [
    "## Description:\n",
    "\n",
    "This notebook will scrape `http://www.nasdaq.com/earnings/earnings-calendar.aspx` in order to obtain data regarding upcoming earnings announcements. <br>\n",
    "\n",
    "http://www.nasdaq.com/earnings/earnings-calendar.aspx?date=2018-Jan-17 <br>\n",
    "\n",
    "Notice the how the date is formatted at the end of the URL.\n"
   ]
  },
  {
   "cell_type": "code",
   "execution_count": 83,
   "metadata": {},
   "outputs": [],
   "source": [
    "# import libs\n",
    "import urllib.request\n",
    "from bs4 import BeautifulSoup\n",
    "import pandas as pd\n",
    "import numpy as np\n",
    "import quandl\n",
    "import datetime\n",
    "\n",
    "# get the ticker within the paranthesis\n",
    "def get_ticker( s ):\n",
    "\n",
    "    return s[s.find(\"(\")+1:s.find(\")\")]\n",
    "    \n",
    "\n",
    "# date must be: yyyy-mmm-dd (i.e. 2018-Jan-16)\n",
    "def scrape_build_df( date ):\n",
    "    \n",
    "    url = \"http://www.nasdaq.com/earnings/earnings-calendar.aspx?date=\" + date\n",
    "    \n",
    "    df = pd.read_html(url)[3]\n",
    "    df.columns = ['Time','Company/MktCap','ExpReportDate','QuarterEnd','EPS_Exp',\n",
    "                  'no_Est','LastYearReportDate','LastYearEPS','pct_surprise']\n",
    "    \n",
    "    del df['Time']\n",
    "    del df['LastYearReportDate']\n",
    "    del df['LastYearEPS']\n",
    "    del df['pct_surprise']\n",
    "    \n",
    "    df['Ticker'] = np.vectorize(get_ticker)(df['Company/MktCap'])\n",
    "    df = df.set_index('Ticker')\n",
    "    \n",
    "    df = df.sort_values(\"no_Est\", ascending=False)\n",
    "    df = df[df.no_Est >= 6]\n",
    "    \n",
    "    universe = df.index.values.tolist()\n",
    "    final_universe = [(stock, df.loc[stock]['EPS_Exp'], df.loc[stock]['no_Est']) \n",
    "                      for stock in universe]\n",
    "\n",
    "    return df, universe, final_universe\n",
    "\n",
    "# use quandle to retrieve stock data\n",
    "quandl.ApiConfig.api_key = 'j9T_hnwjKBytmt7sEdV6'\n",
    "def quandl_stocks( symbol, start_date=(2000, 1, 1), end_date=None ):\n",
    "    \"\"\"\n",
    "    symbol is a string representing a stock symbol, e.g. 'AAPL'\n",
    " \n",
    "    start_date and end_date are tuples of integers representing the year, month,\n",
    "    and day\n",
    " \n",
    "    end_date defaults to the current date when None\n",
    "    \"\"\"\n",
    " \n",
    "    query_list = ['WIKI' + '/' + symbol + '.' + str(k) for k in range(1, 13)]\n",
    " \n",
    "    start_date = datetime.date(*start_date)\n",
    " \n",
    "    if end_date:\n",
    "        end_date = datetime.date(*end_date)\n",
    "    else:\n",
    "        end_date = datetime.date.today()\n",
    " \n",
    "    return quandl.get(query_list, \n",
    "            returns='pandas', \n",
    "            start_date=start_date,\n",
    "            end_date=end_date,\n",
    "            collapse='daily',\n",
    "            order='asc'\n",
    "            )\n",
    "\n",
    "# function to handle stock data retrieval errors\n",
    "def stock_handler( stock, start_date=(2016, 7, 9) ):\n",
    "\n",
    "    try:\n",
    "        stock_df = quandl_stocks(stock, start_date=(2016, 7, 9))\n",
    "        adj_df, curr_price = adjust_df( stock, stock_df )\n",
    "        \n",
    "        return adj_df, curr_price\n",
    "\n",
    "    except ValueError:\n",
    "        return pd.DataFrame()\n",
    "    \n",
    "# mutate the \"stock_df\" in the above so it is \n",
    "# simply the series of Adj Close prices\n",
    "def adjust_df( ticker, stock_df ):\n",
    "    \n",
    "    # Make dataframe of returns, define as close price\n",
    "    adj_df = pd.DataFrame(stock_df['WIKI/' + ticker + ' - Adj. Close'])\n",
    "    adj_df.columns = ['close_price']\n",
    "\n",
    "    # Get pct change\n",
    "    adj_df['pct_change'] = pd.DataFrame.pct_change(adj_df['close_price'])\n",
    "    \n",
    "    return adj_df, adj_df.close_price[-1]\n",
    "    \n",
    "    \n",
    "# build master dataframe    \n",
    "def get_master_dict( universe ):\n",
    "    \n",
    "    return {elm[0]: [stock_handler(elm[0], start_date=(2016, 7, 9)), elm[1], elm[2]]\n",
    "            for elm in universe if not stock_handler(elm[0], start_date=(2016, 7, 9))[0].empty}\n",
    "    \n",
    "# main function\n",
    "def driver( date ):\n",
    "    \n",
    "    return get_master_dict(scrape_build_df(date)[2])"
   ]
  },
  {
   "cell_type": "code",
   "execution_count": 84,
   "metadata": {},
   "outputs": [],
   "source": [
    "# Testing all of the above functions\n",
    "date = \"2017-Jan-09\"\n",
    "master_dict = driver(date)"
   ]
  },
  {
   "cell_type": "code",
   "execution_count": 88,
   "metadata": {},
   "outputs": [
    {
     "data": {
      "text/plain": [
       "(            close_price  pct_change\n",
       " Date                               \n",
       " 2016-07-11    74.751998         NaN\n",
       " 2016-07-12    75.391587    0.008556\n",
       " 2016-07-13    75.631433    0.003181\n",
       " 2016-07-14    76.430920    0.010571\n",
       " 2016-07-15    76.670766    0.003138\n",
       " 2016-07-18    76.710740    0.000521\n",
       " 2016-07-19    76.720734    0.000130\n",
       " 2016-07-20    77.869996    0.014980\n",
       " 2016-07-21    77.160451   -0.009112\n",
       " 2016-07-22    77.760066    0.007771\n",
       " 2016-07-25    78.269739    0.006554\n",
       " 2016-07-26    79.179155    0.011619\n",
       " 2016-07-27    78.379668   -0.010097\n",
       " 2016-07-28    78.139822   -0.003060\n",
       " 2016-07-29    74.612088   -0.045146\n",
       " 2016-08-01    73.662697   -0.012724\n",
       " 2016-08-02    71.454116   -0.029982\n",
       " 2016-08-03    73.113050    0.023217\n",
       " 2016-08-04    73.512794    0.005467\n",
       " 2016-08-05    74.492165    0.013322\n",
       " 2016-08-08    73.892550   -0.008049\n",
       " 2016-08-09    74.841940    0.012848\n",
       " 2016-08-10    74.672049   -0.002270\n",
       " 2016-08-11    74.811978    0.001874\n",
       " 2016-08-12    74.652059   -0.002138\n",
       " 2016-08-15    74.901932    0.003347\n",
       " 2016-08-16    73.492649   -0.018815\n",
       " 2016-08-17    74.182298    0.009384\n",
       " 2016-08-18    74.122329   -0.000808\n",
       " 2016-08-19    74.712029    0.007956\n",
       " ...                 ...         ...\n",
       " 2017-12-06    97.190000    0.005795\n",
       " 2017-12-07    99.190000    0.020578\n",
       " 2017-12-08    99.370000    0.001815\n",
       " 2017-12-11   100.220000    0.008554\n",
       " 2017-12-12   100.140000   -0.000798\n",
       " 2017-12-13    99.360000   -0.007789\n",
       " 2017-12-14    99.540000    0.001812\n",
       " 2017-12-15   100.830000    0.012960\n",
       " 2017-12-18   101.360000    0.005256\n",
       " 2017-12-19   102.720000    0.013418\n",
       " 2017-12-20   101.720000   -0.009735\n",
       " 2017-12-21   100.370000   -0.013272\n",
       " 2017-12-22   100.360000   -0.000100\n",
       " 2017-12-26   100.730000    0.003687\n",
       " 2017-12-27   100.330000   -0.003971\n",
       " 2017-12-28   100.320000   -0.000100\n",
       " 2017-12-29   100.240000   -0.000797\n",
       " 2018-01-02    99.560000   -0.006784\n",
       " 2018-01-03   101.710000    0.021595\n",
       " 2018-01-04   103.650000    0.019074\n",
       " 2018-01-05   103.560000   -0.000868\n",
       " 2018-01-08   104.180000    0.005987\n",
       " 2018-01-09   104.810000    0.006047\n",
       " 2018-01-10   103.570000   -0.011831\n",
       " 2018-01-11   104.000000    0.004152\n",
       " 2018-01-12   103.260000   -0.007115\n",
       " 2018-01-16   104.600000    0.012977\n",
       " 2018-01-17   105.800000    0.011472\n",
       " 2018-01-18   106.180000    0.003592\n",
       " 2018-01-19   108.010000    0.017235\n",
       " \n",
       " [385 rows x 2 columns], 108.01000000000001)"
      ]
     },
     "execution_count": 88,
     "metadata": {},
     "output_type": "execute_result"
    }
   ],
   "source": [
    "master_dict['GPN'][0]"
   ]
  },
  {
   "cell_type": "code",
   "execution_count": 89,
   "metadata": {},
   "outputs": [],
   "source": [
    "def get_bs_params( cp_df ):\n",
    "    \n",
    "    # Note: skipna = True by default, so the first row is not an issue\n",
    "    return [cp_df[0]['pct_change'].mean(), cp_df[0]['pct_change'].std(), cp_df[1]]"
   ]
  },
  {
   "cell_type": "code",
   "execution_count": 90,
   "metadata": {},
   "outputs": [],
   "source": [
    "def set_param_dict( data_dict ):\n",
    "    \n",
    "    return {k: get_bs_params(data_dict[k][0]) for k in data_dict.keys()}\n",
    "    \n",
    "    "
   ]
  },
  {
   "cell_type": "code",
   "execution_count": 91,
   "metadata": {},
   "outputs": [],
   "source": [
    "p_dict = set_param_dict(master_dict)"
   ]
  },
  {
   "cell_type": "code",
   "execution_count": 92,
   "metadata": {},
   "outputs": [
    {
     "data": {
      "text/plain": [
       "{'AYI': [-0.0010415016418895565, 0.021540181759649401, 163.15000000000001],\n",
       " 'CMC': [0.001300509126936006, 0.024138689411994527, 24.82],\n",
       " 'CUDA': [0.0011388444695931237, 0.022424280057456853, 27.550000000000001],\n",
       " 'GPN': [0.0010457247866145014, 0.013203834352762329, 108.01000000000001]}"
      ]
     },
     "execution_count": 92,
     "metadata": {},
     "output_type": "execute_result"
    }
   ],
   "source": [
    "p_dict"
   ]
  },
  {
   "cell_type": "code",
   "execution_count": 93,
   "metadata": {},
   "outputs": [],
   "source": [
    "gpn_mu = p_dict['GPN'][0]; gpn_sig = p_dict['GPN'][1]; gpn_price = p_dict['GPN'][2]"
   ]
  },
  {
   "cell_type": "code",
   "execution_count": 106,
   "metadata": {},
   "outputs": [],
   "source": [
    "def simulate_price( mu, sig, s_t ):\n",
    "    \n",
    "    avg_sT = list()\n",
    "    # Run 1000 simulations\n",
    "    for i in range(1000):\n",
    "    \n",
    "        T = 10 # number of periods to simulate\n",
    "        N = 100 # number of scenarios\n",
    "        epsilon = np.random.normal(size=[T, N])\n",
    "        paths = s_t*np.exp(np.cumsum(mu-0.5*(sig**2) + sig*epsilon, axis=0))\n",
    "\n",
    "        # output\n",
    "        #print('data from %s to %s' % (data.index[0].date(), data.index[-1].date()))\n",
    "        #print('%d scenarios of %d periods' % (N, T))\n",
    "        avg_sT.append( paths[-1].mean() )\n",
    "        \n",
    "    return ( np.array(avg_sT).mean() )"
   ]
  },
  {
   "cell_type": "code",
   "execution_count": 111,
   "metadata": {},
   "outputs": [],
   "source": [
    "estimated_price_dict = {k : simulate_price(p_dict[k][0], p_dict[k][1], p_dict[k][2]) for k in p_dict.keys()}\n",
    "    "
   ]
  },
  {
   "cell_type": "code",
   "execution_count": 117,
   "metadata": {},
   "outputs": [],
   "source": [
    "df = pd.DataFrame.from_dict(estimated_price_dict, orient='index')\n",
    "df.columns = ['Simulated Price']"
   ]
  },
  {
   "cell_type": "code",
   "execution_count": 118,
   "metadata": {},
   "outputs": [
    {
     "data": {
      "text/html": [
       "<div>\n",
       "<style>\n",
       "    .dataframe thead tr:only-child th {\n",
       "        text-align: right;\n",
       "    }\n",
       "\n",
       "    .dataframe thead th {\n",
       "        text-align: left;\n",
       "    }\n",
       "\n",
       "    .dataframe tbody tr th {\n",
       "        vertical-align: top;\n",
       "    }\n",
       "</style>\n",
       "<table border=\"1\" class=\"dataframe\">\n",
       "  <thead>\n",
       "    <tr style=\"text-align: right;\">\n",
       "      <th></th>\n",
       "      <th>Simulated Price</th>\n",
       "    </tr>\n",
       "  </thead>\n",
       "  <tbody>\n",
       "    <tr>\n",
       "      <th>GPN</th>\n",
       "      <td>109.166057</td>\n",
       "    </tr>\n",
       "    <tr>\n",
       "      <th>AYI</th>\n",
       "      <td>161.477506</td>\n",
       "    </tr>\n",
       "    <tr>\n",
       "      <th>CUDA</th>\n",
       "      <td>27.867360</td>\n",
       "    </tr>\n",
       "    <tr>\n",
       "      <th>CMC</th>\n",
       "      <td>25.156916</td>\n",
       "    </tr>\n",
       "  </tbody>\n",
       "</table>\n",
       "</div>"
      ],
      "text/plain": [
       "      Simulated Price\n",
       "GPN        109.166057\n",
       "AYI        161.477506\n",
       "CUDA        27.867360\n",
       "CMC         25.156916"
      ]
     },
     "execution_count": 118,
     "metadata": {},
     "output_type": "execute_result"
    }
   ],
   "source": [
    "df"
   ]
  },
  {
   "cell_type": "code",
   "execution_count": null,
   "metadata": {},
   "outputs": [],
   "source": []
  }
 ],
 "metadata": {
  "kernelspec": {
   "display_name": "Python 3",
   "language": "python",
   "name": "python3"
  },
  "language_info": {
   "codemirror_mode": {
    "name": "ipython",
    "version": 3
   },
   "file_extension": ".py",
   "mimetype": "text/x-python",
   "name": "python",
   "nbconvert_exporter": "python",
   "pygments_lexer": "ipython3",
   "version": "3.6.3"
  }
 },
 "nbformat": 4,
 "nbformat_minor": 2
}
